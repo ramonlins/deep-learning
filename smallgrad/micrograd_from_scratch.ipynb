{
 "cells": [
  {
   "cell_type": "code",
   "execution_count": 25,
   "metadata": {},
   "outputs": [
    {
     "name": "stdout",
     "output_type": "stream",
     "text": [
      "4.0\n",
      "3.999699999999999\n",
      "slope -3.000000000010772\n"
     ]
    }
   ],
   "source": [
    "# Random example of basic operations that can be founded in neural networks\n",
    "h = 0.0001\n",
    "a = 2.0\n",
    "b = -3.0\n",
    "c = 10.0\n",
    "\n",
    "d1 = a*b + c\n",
    "a += h  # Tiny increament in a\n",
    "d2 = a*b + c # Small increase in negative part will decrease the value of equation\n",
    "\n",
    "print(d1)\n",
    "print(d2)\n",
    "print('slope', (d2 - d1)/h) # As the value goes down, the slope will be negative"
   ]
  },
  {
   "cell_type": "code",
   "execution_count": 26,
   "metadata": {},
   "outputs": [
    {
     "name": "stdout",
     "output_type": "stream",
     "text": [
      "3.999699999999999\n",
      "3.99990001\n",
      "slope 2.0001000000124947\n"
     ]
    }
   ],
   "source": [
    "d1 = a*b + c\n",
    "b += h  # Tiny increament in b      \n",
    "d2 = a*b + c # Small decrease in negative part will increase the value of equation\n",
    "\n",
    "print(d1)\n",
    "print(d2)\n",
    "print('slope', (d2 - d1)/h) # As the value goes up, the slope will be positive"
   ]
  },
  {
   "attachments": {},
   "cell_type": "markdown",
   "metadata": {},
   "source": [
    "Now if a small increasing happens on c, what is gonna happen?\n",
    "\n",
    "As c is been slightly increased in both equations they add the same amount of increase in value function thus returning a slope of 1."
   ]
  },
  {
   "cell_type": "code",
   "execution_count": 27,
   "metadata": {},
   "outputs": [
    {
     "name": "stdout",
     "output_type": "stream",
     "text": [
      "3.99990001\n",
      "4.00000001\n",
      "slope 0.9999999999976694\n"
     ]
    }
   ],
   "source": [
    "d1 = a*b + c\n",
    "c += h  # Tiny increament in c    \n",
    "d2 = a*b + c # Small positive increase in both value of equations\n",
    "\n",
    "print(d1)\n",
    "print(d2)\n",
    "print('slope', (d2 - d1)/h) # As the value of c slightly goes up, the slope will behavior\n",
    "                            # in the same way"
   ]
  },
  {
   "cell_type": "code",
   "execution_count": 97,
   "metadata": {},
   "outputs": [],
   "source": [
    "from typing import TypeVar, Generic\n",
    "\"\"\"\n",
    "Data structure design to maintain the basic mathematical expression of neural networks\n",
    "\"\"\"\n",
    "V = TypeVar('V')\n",
    "    \n",
    "class Value(Generic[V]):\n",
    "    # magic method (dunder) initialize an instance of a class (constructor method)\n",
    "    def __init__(self, data: float, childrens=()): # `self` is used to to access atributes and methods of the class\n",
    "        self.data = data\n",
    "        self.childrens = childrens \n",
    "    \n",
    "    # magic method (dunder) used to return a string representing and object\n",
    "    def __repr__(self) -> V:\n",
    "        return f'Value(data={self.data})'\n",
    "    \n",
    "    # add the attributes of the class instance\n",
    "    def __add__(self, other: V) -> V:\n",
    "        return Value(self.data + other.data, (self, other))\n",
    "    \n",
    "    # multiplie the attributes of the class instance\n",
    "    def __mul__(self, other: V) -> V:\n",
    "        return Value(self.data * other.data, (self, other))\n",
    "        "
   ]
  },
  {
   "cell_type": "code",
   "execution_count": 100,
   "metadata": {},
   "outputs": [],
   "source": [
    "a = Value(2.0)\n",
    "b = Value(-3.0)\n",
    "c = Value(10.0)\n",
    "\n",
    "children1 = a*b\n",
    "children2 = c\n",
    "d = children1 + children2\n"
   ]
  },
  {
   "cell_type": "code",
   "execution_count": 102,
   "metadata": {},
   "outputs": [
    {
     "data": {
      "text/plain": [
       "(Value(data=-6.0), Value(data=10.0))"
      ]
     },
     "execution_count": 102,
     "metadata": {},
     "output_type": "execute_result"
    }
   ],
   "source": [
    "d.children"
   ]
  },
  {
   "cell_type": "code",
   "execution_count": null,
   "metadata": {},
   "outputs": [],
   "source": []
  }
 ],
 "metadata": {
  "kernelspec": {
   "display_name": "Python 3",
   "language": "python",
   "name": "python3"
  },
  "language_info": {
   "codemirror_mode": {
    "name": "ipython",
    "version": 3
   },
   "file_extension": ".py",
   "mimetype": "text/x-python",
   "name": "python",
   "nbconvert_exporter": "python",
   "pygments_lexer": "ipython3",
   "version": "3.10.9"
  },
  "orig_nbformat": 4
 },
 "nbformat": 4,
 "nbformat_minor": 2
}
